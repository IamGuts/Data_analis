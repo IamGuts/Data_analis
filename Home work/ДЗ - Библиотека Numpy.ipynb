{
 "cells": [
  {
   "cell_type": "code",
   "execution_count": 1,
   "metadata": {
    "id": "Vp5qUa6wqe7T"
   },
   "outputs": [],
   "source": [
    "import numpy as np"
   ]
  },
  {
   "cell_type": "markdown",
   "metadata": {
    "id": "dT9n_KJtpS-N"
   },
   "source": [
    "### Задача 1"
   ]
  },
  {
   "cell_type": "markdown",
   "metadata": {
    "id": "2_cm05XBgnNn"
   },
   "source": [
    "1. Создайте два массива, состоящих из целочисленных значений. Первый массив должен содержать 10 элементов, второй массив - 4 элемента. Для создания массива можно использовать любой метод библиотеки **numpy** или задать значения вручную.\n",
    "\n",
    "2. С помощью метода `numpy.in1d()` проверьте: какие элементы первого массива есть во втором массиве. Результатом работы должен быть массив из 10 значений логического типа (`True` или `False`)\n",
    "\n",
    "---\n",
    "\n",
    "В зависимости от введенных данных ваш результат может быть таким:\n",
    "![pic2.png](data:image/png;base64,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)\n",
    "\n"
   ]
  },
  {
   "cell_type": "code",
   "execution_count": 7,
   "metadata": {},
   "outputs": [
    {
     "name": "stdout",
     "output_type": "stream",
     "text": [
      "[ True  True  True False False False False  True  True  True]\n"
     ]
    }
   ],
   "source": [
    "mass_10 = np.array([2,3,4,5,6,7,8,9,10,11])\n",
    "mass_4 = np.array([5,6,7,8])\n",
    "mass_all = np.isin(mass_10, mass_4, invert = True)\n",
    "print(mass_all)"
   ]
  },
  {
   "cell_type": "markdown",
   "metadata": {
    "id": "63dUWSKmuHVv"
   },
   "source": [
    "### Задача 2"
   ]
  },
  {
   "cell_type": "markdown",
   "metadata": {
    "id": "ycpAAVBEuHVv"
   },
   "source": [
    "Выведите на экран «цифровой треугольник»\n",
    "\n",
    "Для этого:\n",
    "- создайте numpy-массив с именем **my_array** размером 7 на 7, состоящий из нулей;\n",
    "- любым способом добавьте в этот массив единицы в левую часть от главной дагонали, чтобы получилась структура следующего вида:\n",
    "  ```\n",
    "  array([[0, 0, 0, 0, 0, 0, 0],\n",
    "        [1, 0, 0, 0, 0, 0, 0],\n",
    "        [1, 1, 0, 0, 0, 0, 0],\n",
    "        [1, 1, 1, 0, 0, 0, 0],\n",
    "        [1, 1, 1, 1, 0, 0, 0],\n",
    "        [1, 1, 1, 1, 1, 0, 0],\n",
    "        [1, 1, 1, 1, 1, 1, 0]])\n",
    "\n",
    "  ```"
   ]
  },
  {
   "cell_type": "code",
   "execution_count": 15,
   "metadata": {},
   "outputs": [
    {
     "name": "stdout",
     "output_type": "stream",
     "text": [
      "[[0. 0. 0. 0. 0. 0. 0.]\n",
      " [1. 0. 0. 0. 0. 0. 0.]\n",
      " [1. 1. 0. 0. 0. 0. 0.]\n",
      " [1. 1. 1. 0. 0. 0. 0.]\n",
      " [1. 1. 1. 1. 0. 0. 0.]\n",
      " [1. 1. 1. 1. 1. 0. 0.]\n",
      " [1. 1. 1. 1. 1. 1. 0.]]\n"
     ]
    }
   ],
   "source": [
    "my_array = np.zeros((7,7))\n",
    "for i in range(7):\n",
    "    for j in range(i):\n",
    "        my_array[i,j] = 1\n",
    "        \n",
    "print(my_array)"
   ]
  },
  {
   "cell_type": "markdown",
   "metadata": {
    "id": "BDz6HXvPxsYs"
   },
   "source": [
    "### Задача 3"
   ]
  },
  {
   "cell_type": "markdown",
   "metadata": {
    "id": "_b21x2ryxziN"
   },
   "source": [
    "Выведите на экран «цифровую снежинку»\n",
    "\n",
    "Для этого:\n",
    "- создайте numpy-массив с именем **my_array** размером 7 на 7, состоящий из нулей;\n",
    "- любым способом добавьте в этот массив единицы, чтобы получилась структура следующего вида:\n",
    "\n",
    "        1 0 0 1 0 0 1\n",
    "        0 1 0 1 0 1 0\n",
    "        0 0 1 1 1 0 0\n",
    "        1 1 1 1 1 1 1\n",
    "        0 0 1 1 1 0 0       \n",
    "        0 1 0 1 0 1 0\n",
    "        1 0 0 1 0 0 1\n",
    "\n"
   ]
  },
  {
   "cell_type": "code",
   "execution_count": 29,
   "metadata": {
    "id": "hXfrCr71zT_Q"
   },
   "outputs": [
    {
     "name": "stdout",
     "output_type": "stream",
     "text": [
      "1 0 0 1 0 0 1\n",
      "0 1 0 1 0 1 0\n",
      "0 0 1 1 1 0 0\n",
      "1 1 1 1 1 1 1\n",
      "0 0 1 1 1 0 0\n",
      "0 1 0 1 0 1 0\n",
      "1 0 0 1 0 0 1\n"
     ]
    }
   ],
   "source": [
    "# Ваше решение\n",
    "my_array = np.zeros((7,7))\n",
    "\n",
    "coordinates = [\n",
    "    (0, 0), (0, 3), (0, 6),\n",
    "    (1, 1), (1, 3), (1, 5),\n",
    "    (2, 2), (2, 3), (2, 4),\n",
    "    (3, 0), (3, 1), (3, 2), (3, 3), (3, 4), (3, 5), (3, 6),\n",
    "    (4, 2), (4, 3), (4, 4),\n",
    "    (5, 1), (5, 3), (5, 5),\n",
    "    (6, 0), (6, 3), (6, 6)\n",
    "]\n",
    "\n",
    "for x,y in coordinates:\n",
    "    my_array[x][y] = int(1)\n",
    "\n",
    "\n",
    "\n",
    "for row in my_array:\n",
    "    print(\" \".join(map(lambda x: str(int(x)), row)))"
   ]
  }
 ],
 "metadata": {
  "colab": {
   "collapsed_sections": [
    "dT9n_KJtpS-N",
    "63dUWSKmuHVv",
    "BDz6HXvPxsYs"
   ],
   "provenance": [
    {
     "file_id": "1tc67VadflDkwguzXz1Hte14ynpOT9Xcx",
     "timestamp": 1706779848846
    },
    {
     "file_id": "1Uqgy6zBmdjmM7VEegImVVyWq3hOnaAxm",
     "timestamp": 1698232707467
    },
    {
     "file_id": "1_ay_QO-JdZRr5rbQ5n4aDvkPKysJ_ABv",
     "timestamp": 1648877856339
    },
    {
     "file_id": "1trvPm_OobZGDDKAMa1OqFaRCDzqr2qeQ",
     "timestamp": 1628156866353
    },
    {
     "file_id": "1MhGTljrjHHj-MywiAhZVCif8ztJFf13l",
     "timestamp": 1628153805360
    },
    {
     "file_id": "1XWKCQr22pePTFi4hrMY5mEICXyHU4NIz",
     "timestamp": 1623491906170
    },
    {
     "file_id": "1XcXczzBMebBVnlqaqb4xCgC8P58lGQ_a",
     "timestamp": 1622536899578
    },
    {
     "file_id": "1ADveU4tImTo0NgRDSgBu8eoann9OxTxp",
     "timestamp": 1621442697169
    },
    {
     "file_id": "1YtH5alyxqG-XIryLryMkZVawTuNyRGIq",
     "timestamp": 1621432152735
    },
    {
     "file_id": "1GKg4YR0pZ44VWOJnXAvlOKMrsp16V5eS",
     "timestamp": 1621148455379
    }
   ]
  },
  "kernelspec": {
   "display_name": "Data_Science",
   "language": "python",
   "name": "python3"
  },
  "language_info": {
   "codemirror_mode": {
    "name": "ipython",
    "version": 3
   },
   "file_extension": ".py",
   "mimetype": "text/x-python",
   "name": "python",
   "nbconvert_exporter": "python",
   "pygments_lexer": "ipython3",
   "version": "3.11.9"
  }
 },
 "nbformat": 4,
 "nbformat_minor": 0
}
